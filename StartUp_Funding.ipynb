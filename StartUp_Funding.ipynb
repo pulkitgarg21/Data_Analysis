{
 "cells": [
  {
   "cell_type": "code",
   "execution_count": 110,
   "metadata": {},
   "outputs": [],
   "source": [
    "## Importing libraries\n",
    "import numpy as np\n",
    "import pandas as pd\n",
    "import csv\n",
    "import matplotlib.pyplot as plt"
   ]
  },
  {
   "cell_type": "code",
   "execution_count": 57,
   "metadata": {},
   "outputs": [],
   "source": [
    "df = pd.read_csv('startup_funding.csv')"
   ]
  },
  {
   "cell_type": "code",
   "execution_count": 58,
   "metadata": {},
   "outputs": [],
   "source": [
    "data = df.copy()"
   ]
  },
  {
   "cell_type": "markdown",
   "metadata": {},
   "source": [
    "## Problem Description :- For the locations Bangalore, Mumbai, NCR(Gurgaon, Noida and New Delhi), find the location where most number of funding is done?"
   ]
  },
  {
   "cell_type": "code",
   "execution_count": 59,
   "metadata": {},
   "outputs": [],
   "source": [
    "data['CityLocation'] = data['CityLocation'].fillna(\" \")"
   ]
  },
  {
   "cell_type": "code",
   "execution_count": 60,
   "metadata": {},
   "outputs": [],
   "source": [
    "np_cities = ['Bangalore','Mumbai','NCR']\n",
    "np_count = [0]*len(np_cities)\n",
    "for i in data['CityLocation'].values:\n",
    "    city = []\n",
    "    if '/' in i:\n",
    "        a = i.split('/')\n",
    "        for j in a:\n",
    "            city.append(j.strip())\n",
    "    else:\n",
    "        city.append(i)\n",
    "    for j in city:\n",
    "        if ('bangalore' == j) or ('Bangalore' == j):\n",
    "            np_count[0]+=1\n",
    "        if ('Mumbai' == j) or ('mumbai' == j):\n",
    "            np_count[1]+=1\n",
    "        if ('delhi' in j) or ('Delhi' in j) or ('noida' in j) or ('Noida' in j) or ('gurgaon' in j) or ('Gurgaon' in j):\n",
    "            np_count[2]+=1  "
   ]
  },
  {
   "cell_type": "code",
   "execution_count": 61,
   "metadata": {},
   "outputs": [
    {
     "data": {
      "image/png": "[encoded data removed]",
      "text/plain": [
       "<Figure size 432x288 with 1 Axes>"
      ]
     },
     "metadata": {
      "needs_background": "light"
     },
     "output_type": "display_data"
    }
   ],
   "source": [
    "plt.bar(np_cities,np_count,color=['blue','red','green'])\n",
    "plt.xlabel(\"Location\")\n",
    "plt.ylabel(\"Number of Funding\")\n",
    "plt.title(\"Location vs Number of funding\")\n",
    "plt.show()"
   ]
  },
  {
   "cell_type": "markdown",
   "metadata": {},
   "source": [
    "###  Ans :- Location where Maximum number of fundings offered is \"NCR\"."
   ]
  },
  {
   "cell_type": "markdown",
   "metadata": {},
   "source": [
    "## Problem Description :-  Find the top 5 investors who have invested maximum number of times (consider repeat investments in one company also). In a startup, multiple investors might have invested. So consider each investor for that startup. Ignore undisclosed investors."
   ]
  },
  {
   "cell_type": "code",
   "execution_count": 111,
   "metadata": {},
   "outputs": [],
   "source": [
    "data['InvestorsName'] = data['InvestorsName'].fillna(\"\")"
   ]
  },
  {
   "cell_type": "code",
   "execution_count": 112,
   "metadata": {},
   "outputs": [],
   "source": [
    "np_investors = []\n",
    "np_count = []\n",
    "for i in data['InvestorsName'].values:\n",
    "    invest = []\n",
    "    \n",
    "    if ',' in i:\n",
    "        a = i.split(',')\n",
    "        for j in a:\n",
    "            if ('Undisclosed investors' not in j) and ('undisclosed investors' not in j) and ('Undisclosed Investors' not in j):\n",
    "                invest.append(j.strip())\n",
    "    else:\n",
    "        if ('Undisclosed investors' not in i) and ('undisclosed investors' not in i) and ('Undisclosed Investors' not in i):\n",
    "            invest.append(i.strip())\n",
    "    for j in invest:\n",
    "        if j !='':\n",
    "            if j in np_investors:\n",
    "                index = np.where(np.array(np_investors)==j)[0][0]\n",
    "                np_count[index]+=1\n",
    "            else:\n",
    "                np_investors.append(j)\n",
    "                index = np.where(np.array(np_investors)==j)[0][0]\n",
    "                np_count.append(1)\n",
    "            "
   ]
  },
  {
   "cell_type": "code",
   "execution_count": 113,
   "metadata": {},
   "outputs": [
    {
     "name": "stdout",
     "output_type": "stream",
     "text": [
      "Sequoia Capital 64\n",
      "Accel Partners 53\n",
      "Kalaari Capital 44\n",
      "SAIF Partners 41\n",
      "Indian Angel Network 40\n"
     ]
    }
   ],
   "source": [
    "index = np.argsort(np_count)[::-1]\n",
    "np_invest = []\n",
    "np_coun = []\n",
    "for i in range(0,5):\n",
    "    ind = index[i] \n",
    "    np_invest.append(np_investors[ind])\n",
    "    np_coun.append(np_count[ind])\n",
    "    print(np_investors[ind],np_count[ind])"
   ]
  },
  {
   "cell_type": "code",
   "execution_count": 114,
   "metadata": {},
   "outputs": [
    {
     "data": {
      "image/png": "[encoded data removed]",
      "text/plain": [
       "<Figure size 432x288 with 1 Axes>"
      ]
     },
     "metadata": {
      "needs_background": "light"
     },
     "output_type": "display_data"
    }
   ],
   "source": [
    "plt.bar(np_invest,np_coun,color=['blue','red','green','orange','black'])\n",
    "plt.xlabel(\"Investors \")\n",
    "plt.ylabel(\"Number of Funding\")\n",
    "plt.title(\"Investors vs Number of funding\")\n",
    "plt.xticks(rotation=40)\n",
    "plt.show()"
   ]
  },
  {
   "cell_type": "markdown",
   "metadata": {},
   "source": [
    "### This is the list of top 5 investors who has invested maximum number of times"
   ]
  },
  {
   "cell_type": "markdown",
   "metadata": {},
   "source": [
    "## Problem Description :-  Find the top 5 investors who have invested maximum number of times in different companies. That means, if one investor has invested multiple times in one startup, count one for that company. There are many errors in startup names. Ignore correcting all, just handle the important ones - Ola, Flipkart, Oyo and Paytm."
   ]
  },
  {
   "cell_type": "code",
   "execution_count": 115,
   "metadata": {},
   "outputs": [],
   "source": [
    "dicts = {}\n",
    "for i in range(0,len(data['StartupName'])):\n",
    "    a = data['StartupName'][i].strip()\n",
    "    \n",
    "    if (a == 'Ola') or (a == 'Ola Cabs') or (a == 'Olacabs'):\n",
    "        a = 'Ola'\n",
    "    if (a == 'Flipkart') or (a == 'Flipkart.com'):\n",
    "        a = 'Flipkart'\n",
    "    if (a == 'Oyo Rooms') or (a == 'OyoRooms') or (a == 'Oyo') or (a=='Oyorooms') or (a== 'OYO Rooms'):\n",
    "        a = 'Oyo'\n",
    "    if (a == 'Paytm') or (a == 'Paytm Marketplace'):\n",
    "        a = 'Paytm'\n",
    "        \n",
    "    \n",
    "    b = data['InvestorsName'][i].strip()\n",
    "    invest = []\n",
    "    if ',' in b:\n",
    "        c = b.split(',')\n",
    "        for j in c:\n",
    "            if ('Undisclosed investors' not in j) and ('undisclosed investors' not in j) and ('Undisclosed Investors' not in j):\n",
    "                invest.append(j.strip())\n",
    "    else:\n",
    "        if ('Undisclosed investors' not in b) and ('undisclosed investors' not in b) and ('Undisclosed Investors' not in b):\n",
    "            invest.append(b)\n",
    "    \n",
    "    for k in invest:\n",
    "        if k !='':\n",
    "            if k in dicts.keys():\n",
    "                dicts[k].add(a)\n",
    "            else:\n",
    "                dicts[k] = {a}\n",
    "    "
   ]
  },
  {
   "cell_type": "code",
   "execution_count": 116,
   "metadata": {},
   "outputs": [],
   "source": [
    "np_investor = []\n",
    "np_count = []\n",
    "for key,value in dicts.items():\n",
    "    np_investor.append(key)\n",
    "    np_count.append(len(value))"
   ]
  },
  {
   "cell_type": "code",
   "execution_count": 117,
   "metadata": {},
   "outputs": [
    {
     "name": "stdout",
     "output_type": "stream",
     "text": [
      "Sequoia Capital 48\n",
      "Accel Partners 47\n",
      "Kalaari Capital 41\n",
      "Indian Angel Network 40\n",
      "Blume Ventures 36\n"
     ]
    }
   ],
   "source": [
    "index = np.argsort(np_count)[::-1]\n",
    "np_invest = []\n",
    "np_coun = []\n",
    "for i in range(0,5):\n",
    "    ind = index[i] \n",
    "    np_invest.append(np_investor[ind])\n",
    "    np_coun.append(np_count[ind])\n",
    "    print(np_investor[ind],np_count[ind])"
   ]
  },
  {
   "cell_type": "code",
   "execution_count": 118,
   "metadata": {},
   "outputs": [
    {
     "data": {
      "image/png": "[encoded data removed]",
      "text/plain": [
       "<Figure size 432x288 with 1 Axes>"
      ]
     },
     "metadata": {
      "needs_background": "light"
     },
     "output_type": "display_data"
    }
   ],
   "source": [
    "plt.bar(np_invest,np_coun,color=['blue','red','green','orange','black'])\n",
    "plt.xlabel(\"Investors \")\n",
    "plt.ylabel(\"Number of Funding\")\n",
    "plt.title(\"Investors vs Number of funding\")\n",
    "plt.xticks(rotation=40)\n",
    "plt.show()"
   ]
  },
  {
   "cell_type": "markdown",
   "metadata": {},
   "source": [
    "### Final list of investors with number of unique companies in which they have invested"
   ]
  },
  {
   "cell_type": "markdown",
   "metadata": {},
   "source": [
    "## Problem Description :- Find the top 5 investors who have invested in a different number of startups and their investment type is Crowdfunding or Seed Funding. There are many errors in startup names. Ignore correcting all, just handle the important ones - Ola, Flipkart, Oyo and Paytm."
   ]
  },
  {
   "cell_type": "code",
   "execution_count": 119,
   "metadata": {},
   "outputs": [],
   "source": [
    "data['InvestmentType'] = data['InvestmentType'].fillna('')"
   ]
  },
  {
   "cell_type": "code",
   "execution_count": 120,
   "metadata": {},
   "outputs": [],
   "source": [
    "dicts = {}\n",
    "for i in range(0,len(data['StartupName'])):\n",
    "    invest_type = data['InvestmentType'][i]\n",
    "    if ('Seed' in invest_type) or ('Crowd' in invest_type):\n",
    "        a = data['StartupName'][i].strip()\n",
    "    \n",
    "        if (a == 'Ola') or (a == 'Ola Cabs') or (a == 'Olacabs'):\n",
    "            a = 'Ola'\n",
    "        if (a == 'Flipkart') or (a == 'Flipkart.com'):\n",
    "            a = 'Flipkart'\n",
    "        if (a == 'Oyo Rooms') or (a == 'OyoRooms') or (a == 'Oyo') or (a=='Oyorooms') or (a== 'OYO Rooms'):\n",
    "            a = 'Oyo'\n",
    "        if (a == 'Paytm') or (a == 'Paytm Marketplace'):\n",
    "            a = 'Paytm'\n",
    "            \n",
    "        b = data['InvestorsName'][i].strip()\n",
    "        invest = []\n",
    "        if ',' in b:\n",
    "            c = b.split(',')\n",
    "            for j in c:\n",
    "                if ('Undisclosed investors' not in j) and ('undisclosed investors' not in j) and ('Undisclosed Investors' not in j):\n",
    "                    invest.append(j.strip())\n",
    "        else:\n",
    "            if ('Undisclosed investors' not in b) and ('undisclosed investors' not in b) and ('Undisclosed Investors' not in b):\n",
    "                invest.append(b)\n",
    "    \n",
    "        for k in invest:\n",
    "            if k !='':\n",
    "                if k in dicts.keys():\n",
    "                    dicts[k].add(a)\n",
    "                else:\n",
    "                    dicts[k] = {a}\n",
    "    "
   ]
  },
  {
   "cell_type": "code",
   "execution_count": 121,
   "metadata": {},
   "outputs": [],
   "source": [
    "np_investor = []\n",
    "np_count = []\n",
    "for key,value in dicts.items():\n",
    "    np_investor.append(key)\n",
    "    np_count.append(len(value))"
   ]
  },
  {
   "cell_type": "code",
   "execution_count": 122,
   "metadata": {},
   "outputs": [
    {
     "name": "stdout",
     "output_type": "stream",
     "text": [
      "Indian Angel Network 33\n",
      "Rajan Anandan 23\n",
      "Anupam Mittal 16\n",
      "LetsVenture 16\n",
      "Kunal Shah 14\n"
     ]
    }
   ],
   "source": [
    "index = np.argsort(np_count)[::-1]\n",
    "np_invest = []\n",
    "np_coun = []\n",
    "for i in range(0,5):\n",
    "    ind = index[i] \n",
    "    np_invest.append(np_investor[ind])\n",
    "    np_coun.append(np_count[ind])\n",
    "    print(np_investor[ind],np_count[ind])"
   ]
  },
  {
   "cell_type": "code",
   "execution_count": 123,
   "metadata": {},
   "outputs": [
    {
     "data": {
      "image/png": "[encoded data removed]",
      "text/plain": [
       "<Figure size 432x288 with 1 Axes>"
      ]
     },
     "metadata": {
      "needs_background": "light"
     },
     "output_type": "display_data"
    }
   ],
   "source": [
    "plt.bar(np_invest,np_coun,color=['blue','red','green','orange','black'])\n",
    "plt.xlabel(\"Investors \")\n",
    "plt.ylabel(\"Number of Funding\")\n",
    "plt.title(\"Investors vs Number of funding\")\n",
    "plt.xticks(rotation=40)\n",
    "plt.show()"
   ]
  },
  {
   "cell_type": "markdown",
   "metadata": {},
   "source": [
    "### List of top 5 investors who have invested in a different number of startups and their investment type is Crowdfunding or Seed Funding"
   ]
  },
  {
   "cell_type": "markdown",
   "metadata": {},
   "source": [
    "## Problem Description :- Find the top 5 investors who have invested in a different number of startups and their investment type is Private Equity.There are many errors in startup names. Ignore correcting all, just handle the important ones - Ola, Flipkart, Oyo and Paytm."
   ]
  },
  {
   "cell_type": "code",
   "execution_count": 106,
   "metadata": {},
   "outputs": [],
   "source": [
    "dicts = {}\n",
    "for i in range(0,len(data['StartupName'])):\n",
    "    invest_type = data['InvestmentType'][i]\n",
    "    if ('Private' in invest_type):\n",
    "        a = data['StartupName'][i].strip()\n",
    "    \n",
    "        if (a == 'Ola') or (a == 'Ola Cabs') or (a == 'Olacabs'):\n",
    "            a = 'Ola'\n",
    "        if (a == 'Flipkart') or (a == 'Flipkart.com'):\n",
    "            a = 'Flipkart'\n",
    "        if (a == 'Oyo Rooms') or (a == 'OyoRooms') or (a == 'Oyo') or (a=='Oyorooms') or (a== 'OYO Rooms'):\n",
    "            a = 'Oyo'\n",
    "        if (a == 'Paytm') or (a == 'Paytm Marketplace'):\n",
    "            a = 'Paytm'\n",
    "        \n",
    "    \n",
    "        b = data['InvestorsName'][i].strip()\n",
    "        invest = []\n",
    "        if ',' in b:\n",
    "            c = b.split(',')\n",
    "            for j in c:\n",
    "                if ('Undisclosed investors' not in j) and ('undisclosed investors' not in j) and ('Undisclosed Investors' not in j):\n",
    "                    invest.append(j.strip())\n",
    "        else:\n",
    "            if ('Undisclosed investors' not in b) and ('undisclosed investors' not in b) and ('Undisclosed Investors' not in b):\n",
    "                invest.append(b)\n",
    "    \n",
    "        for k in invest:\n",
    "            if k !='':\n",
    "                if k in dicts.keys():\n",
    "                    dicts[k].add(a)\n",
    "                else:\n",
    "                    dicts[k] = {a}\n",
    "    "
   ]
  },
  {
   "cell_type": "code",
   "execution_count": 107,
   "metadata": {},
   "outputs": [],
   "source": [
    "np_investor = []\n",
    "np_count = []\n",
    "for key,value in dicts.items():\n",
    "    np_investor.append(key)\n",
    "    np_count.append(len(value))"
   ]
  },
  {
   "cell_type": "code",
   "execution_count": 108,
   "metadata": {},
   "outputs": [
    {
     "name": "stdout",
     "output_type": "stream",
     "text": [
      "Sequoia Capital 45\n",
      "Accel Partners 43\n",
      "Kalaari Capital 35\n",
      "Blume Ventures 27\n",
      "SAIF Partners 24\n"
     ]
    }
   ],
   "source": [
    "index = np.argsort(np_count)[::-1]\n",
    "np_invest = []\n",
    "np_coun = []\n",
    "for i in range(0,5):\n",
    "    ind = index[i] \n",
    "    np_invest.append(np_investor[ind])\n",
    "    np_coun.append(np_count[ind])\n",
    "    print(np_investor[ind],np_count[ind])"
   ]
  },
  {
   "cell_type": "code",
   "execution_count": 109,
   "metadata": {},
   "outputs": [
    {
     "data": {
      "image/png": "[encoded data removed]",
      "text/plain": [
       "<Figure size 432x288 with 1 Axes>"
      ]
     },
     "metadata": {
      "needs_background": "light"
     },
     "output_type": "display_data"
    }
   ],
   "source": [
    "plt.bar(np_invest,np_coun,color=['blue','red','green','orange','black'])\n",
    "plt.xlabel(\"Investors \")\n",
    "plt.ylabel(\"Number of Funding\")\n",
    "plt.title(\"Investors vs Number of funding\")\n",
    "plt.xticks(rotation=40)\n",
    "plt.show()"
   ]
  },
  {
   "cell_type": "markdown",
   "metadata": {},
   "source": [
    "### List of top 5 investors who have invested in a different number of startups and their investment type is Private Equity"
   ]
  }
 ],
 "metadata": {
  "kernelspec": {
   "display_name": "Python 3",
   "language": "python",
   "name": "python3"
  },
  "language_info": {
   "codemirror_mode": {
    "name": "ipython",
    "version": 3
   },
   "file_extension": ".py",
   "mimetype": "text/x-python",
   "name": "python",
   "nbconvert_exporter": "python",
   "pygments_lexer": "ipython3",
   "version": "3.8.5"
  }
 },
 "nbformat": 4,
 "nbformat_minor": 4
}
